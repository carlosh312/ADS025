{
  "nbformat": 4,
  "nbformat_minor": 0,
  "metadata": {
    "colab": {
      "name": "demo.ipynb",
      "provenance": [],
      "collapsed_sections": [],
      "authorship_tag": "ABX9TyMB+wZ4QW91/1zU0i1x4aVF",
      "include_colab_link": true
    },
    "kernelspec": {
      "name": "python3",
      "display_name": "Python 3"
    }
  },
  "cells": [
    {
      "cell_type": "markdown",
      "metadata": {
        "id": "view-in-github",
        "colab_type": "text"
      },
      "source": [
        "<a href=\"https://colab.research.google.com/github/carlosh312/ADS025/blob/master/demo.ipynb\" target=\"_parent\"><img src=\"https://colab.research.google.com/assets/colab-badge.svg\" alt=\"Open In Colab\"/></a>"
      ]
    },
    {
      "cell_type": "code",
      "metadata": {
        "id": "P6ZYAt6q-tVh",
        "colab_type": "code",
        "colab": {
          "base_uri": "https://localhost:8080/",
          "height": 102
        },
        "outputId": "4292d7a4-4706-475b-a098-5cee14b75068"
      },
      "source": [
        "a ='Oi ' \n",
        "b ='Tudo '\n",
        "c ='bem ?\\n ' \n",
        "d = a + b + c \n",
        "d=4*d\n",
        "print(d)"
      ],
      "execution_count": 11,
      "outputs": [
        {
          "output_type": "stream",
          "text": [
            "Oi Tudo bem ?\n",
            " Oi Tudo bem ?\n",
            " Oi Tudo bem ?\n",
            " Oi Tudo bem ?\n",
            " \n"
          ],
          "name": "stdout"
        }
      ]
    }
  ]
}